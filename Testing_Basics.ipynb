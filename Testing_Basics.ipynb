{
  "nbformat": 4,
  "nbformat_minor": 0,
  "metadata": {
    "colab": {
      "name": "Testing Basics.ipynb",
      "version": "0.3.2",
      "provenance": [],
      "include_colab_link": true
    },
    "kernelspec": {
      "name": "python3",
      "display_name": "Python 3"
    }
  },
  "cells": [
    {
      "cell_type": "markdown",
      "metadata": {
        "id": "view-in-github",
        "colab_type": "text"
      },
      "source": [
        "<a href=\"https://colab.research.google.com/github/tbradshaw91/MITx/blob/master/Testing_Basics.ipynb\" target=\"_parent\"><img src=\"https://colab.research.google.com/assets/colab-badge.svg\" alt=\"Open In Colab\"/></a>"
      ]
    },
    {
      "cell_type": "code",
      "metadata": {
        "id": "6uBaJnl1_TmB",
        "colab_type": "code",
        "colab": {
          "base_uri": "https://localhost:8080/",
          "height": 34
        },
        "outputId": "8f8f3d24-75c5-4cc3-9cca-ec73e07da974"
      },
      "source": [
        "if 6 > 7:\n",
        "   print(\"Yep\")\n",
        "else:\n",
        "   print(\"Nope\") "
      ],
      "execution_count": 52,
      "outputs": [
        {
          "output_type": "stream",
          "text": [
            "Nope\n"
          ],
          "name": "stdout"
        }
      ]
    },
    {
      "cell_type": "code",
      "metadata": {
        "id": "638ziR0KvoXb",
        "colab_type": "code",
        "colab": {
          "base_uri": "https://localhost:8080/",
          "height": 34
        },
        "outputId": "30d91ece-32f5-4b55-f5a8-b4ce7de1056d"
      },
      "source": [
        "var = 'Panda'\n",
        "if var == \"panda\":\n",
        "   print(\"Cute!\")\n",
        "elif var == \"Panda\":\n",
        "   print(\"Regal!\")\n",
        "else:\n",
        "   print(\"Ugly...\")"
      ],
      "execution_count": 53,
      "outputs": [
        {
          "output_type": "stream",
          "text": [
            "Regal!\n"
          ],
          "name": "stdout"
        }
      ]
    },
    {
      "cell_type": "code",
      "metadata": {
        "id": "Mt44LUulwUWp",
        "colab_type": "code",
        "colab": {
          "base_uri": "https://localhost:8080/",
          "height": 34
        },
        "outputId": "e1f7919f-9c9b-4b4d-87bb-91650e58cc6d"
      },
      "source": [
        "temp = 120\n",
        "if temp > 85:\n",
        "   print(\"Hot\")\n",
        "elif temp > 100:\n",
        "   print(\"REALLY HOT!\")\n",
        "elif temp > 60:\n",
        "   print(\"Comfortable\") \n",
        "else:\n",
        "   print(\"Cold\")"
      ],
      "execution_count": 54,
      "outputs": [
        {
          "output_type": "stream",
          "text": [
            "Hot\n"
          ],
          "name": "stdout"
        }
      ]
    },
    {
      "cell_type": "code",
      "metadata": {
        "id": "iWVmNPDbwXIi",
        "colab_type": "code",
        "colab": {
          "base_uri": "https://localhost:8080/",
          "height": 34
        },
        "outputId": "94ea4fa9-9a0b-456a-9194-2de5c43073d5"
      },
      "source": [
        "temp = 50\n",
        "if temp > 85:\n",
        "   print(\"Hot\")\n",
        "elif temp > 100:\n",
        "   print(\"REALLY HOT!\")\n",
        "elif temp > 60:\n",
        "   print(\"Comfortable\")\n",
        "else:\n",
        "   print(\"Cold\")"
      ],
      "execution_count": 55,
      "outputs": [
        {
          "output_type": "stream",
          "text": [
            "Cold\n"
          ],
          "name": "stdout"
        }
      ]
    },
    {
      "cell_type": "code",
      "metadata": {
        "id": "g1qH_FYfyU2r",
        "colab_type": "code",
        "colab": {
          "base_uri": "https://localhost:8080/",
          "height": 119
        },
        "outputId": "a178fbe3-9e06-4230-fecb-247851413ccc"
      },
      "source": [
        "num = 10\n",
        "while True:\n",
        "    if num < 7:\n",
        "        print('Breaking out of loop')\n",
        "        break\n",
        "    print(num)\n",
        "    num -= 1\n",
        "print('Outside of loop')"
      ],
      "execution_count": 59,
      "outputs": [
        {
          "output_type": "stream",
          "text": [
            "10\n",
            "9\n",
            "8\n",
            "7\n",
            "Breaking out of loop\n",
            "Outside of loop\n"
          ],
          "name": "stdout"
        }
      ]
    },
    {
      "cell_type": "code",
      "metadata": {
        "id": "3-40g_T_zbHi",
        "colab_type": "code",
        "colab": {
          "base_uri": "https://localhost:8080/",
          "height": 136
        },
        "outputId": "ae2c162c-8794-4f55-8b89-7deb8e6526a9"
      },
      "source": [
        "num = 10\n",
        "while num > 3:\n",
        "    num -= 1\n",
        "    print(num) "
      ],
      "execution_count": 61,
      "outputs": [
        {
          "output_type": "stream",
          "text": [
            "9\n",
            "8\n",
            "7\n",
            "6\n",
            "5\n",
            "4\n",
            "3\n"
          ],
          "name": "stdout"
        }
      ]
    },
    {
      "cell_type": "code",
      "metadata": {
        "id": "xiDZvA0B0P0n",
        "colab_type": "code",
        "colab": {
          "base_uri": "https://localhost:8080/",
          "height": 119
        },
        "outputId": "22efbabb-7638-4b8a-a966-b5e88fe2caad"
      },
      "source": [
        "num = 10\n",
        "for num in range(5):\n",
        "    print(num)\n",
        "print(num)"
      ],
      "execution_count": 62,
      "outputs": [
        {
          "output_type": "stream",
          "text": [
            "0\n",
            "1\n",
            "2\n",
            "3\n",
            "4\n",
            "4\n"
          ],
          "name": "stdout"
        }
      ]
    },
    {
      "cell_type": "code",
      "metadata": {
        "id": "HLjRWpXA1Kxe",
        "colab_type": "code",
        "colab": {
          "base_uri": "https://localhost:8080/",
          "height": 102
        },
        "outputId": "c2caaeb8-5deb-492c-bf5f-4cce63fa8c01"
      },
      "source": [
        "divisor = 2\n",
        "for num in range(0, 10, 2):\n",
        "    print(num/divisor) "
      ],
      "execution_count": 63,
      "outputs": [
        {
          "output_type": "stream",
          "text": [
            "0.0\n",
            "1.0\n",
            "2.0\n",
            "3.0\n",
            "4.0\n"
          ],
          "name": "stdout"
        }
      ]
    },
    {
      "cell_type": "code",
      "metadata": {
        "id": "PzJV6VY41Ro0",
        "colab_type": "code",
        "colab": {
          "base_uri": "https://localhost:8080/",
          "height": 136
        },
        "outputId": "fe4b6d24-7c15-4c19-ee6f-caeb3ef2419a"
      },
      "source": [
        "for variable in range(20):\n",
        "    if variable % 4 == 0:\n",
        "        print(variable)\n",
        "    if variable % 16 == 0:\n",
        "        print('Foo!') "
      ],
      "execution_count": 64,
      "outputs": [
        {
          "output_type": "stream",
          "text": [
            "0\n",
            "Foo!\n",
            "4\n",
            "8\n",
            "12\n",
            "16\n",
            "Foo!\n"
          ],
          "name": "stdout"
        }
      ]
    },
    {
      "cell_type": "code",
      "metadata": {
        "id": "OehfZ8ix1YU5",
        "colab_type": "code",
        "colab": {
          "base_uri": "https://localhost:8080/",
          "height": 85
        },
        "outputId": "4027e001-60f4-47e1-b892-122bf9396a13"
      },
      "source": [
        "for letter in 'hola':\n",
        "    print(letter)  "
      ],
      "execution_count": 65,
      "outputs": [
        {
          "output_type": "stream",
          "text": [
            "h\n",
            "o\n",
            "l\n",
            "a\n"
          ],
          "name": "stdout"
        }
      ]
    },
    {
      "cell_type": "code",
      "metadata": {
        "id": "RuSsC0aa1cAL",
        "colab_type": "code",
        "colab": {
          "base_uri": "https://localhost:8080/",
          "height": 51
        },
        "outputId": "86f983f0-936e-4580-84e0-398d92d7b501"
      },
      "source": [
        "count = 0\n",
        "for letter in 'Snow!':\n",
        "    print('Letter # ' + str(count) + ' is ' + str(letter))\n",
        "    count += 1\n",
        "    break\n",
        "print(count)"
      ],
      "execution_count": 66,
      "outputs": [
        {
          "output_type": "stream",
          "text": [
            "Letter # 0 is S\n",
            "1\n"
          ],
          "name": "stdout"
        }
      ]
    },
    {
      "cell_type": "code",
      "metadata": {
        "id": "ozBi9HlN1kCP",
        "colab_type": "code",
        "colab": {
          "base_uri": "https://localhost:8080/",
          "height": 119
        },
        "outputId": "b3010db3-9a97-4848-d993-bf3038afb2c2"
      },
      "source": [
        "myStr = '6.00x'\n",
        "\n",
        "for char in myStr:\n",
        "    print(char)\n",
        "\n",
        "print('done')"
      ],
      "execution_count": 67,
      "outputs": [
        {
          "output_type": "stream",
          "text": [
            "6\n",
            ".\n",
            "0\n",
            "0\n",
            "x\n",
            "done\n"
          ],
          "name": "stdout"
        }
      ]
    },
    {
      "cell_type": "code",
      "metadata": {
        "id": "7zMrtlOR1sYF",
        "colab_type": "code",
        "colab": {
          "base_uri": "https://localhost:8080/",
          "height": 187
        },
        "outputId": "64a57b23-2e98-483d-ec26-49573eb0d3cf"
      },
      "source": [
        "greeting = 'Hello!'\n",
        "count = 0\n",
        "\n",
        "for letter in greeting:\n",
        "    count += 1\n",
        "    if count % 2 == 0:\n",
        "        print(letter)\n",
        "    print(letter)\n",
        "\n",
        "print('done')"
      ],
      "execution_count": 68,
      "outputs": [
        {
          "output_type": "stream",
          "text": [
            "H\n",
            "e\n",
            "e\n",
            "l\n",
            "l\n",
            "l\n",
            "o\n",
            "!\n",
            "!\n",
            "done\n"
          ],
          "name": "stdout"
        }
      ]
    },
    {
      "cell_type": "code",
      "metadata": {
        "id": "IXLGt_ZF1z2i",
        "colab_type": "code",
        "colab": {
          "base_uri": "https://localhost:8080/",
          "height": 68
        },
        "outputId": "2ce51007-315d-41b8-b7ae-f86fe16c4df8"
      },
      "source": [
        "school = 'Massachusetts Institute of Technology'\n",
        "numVowels = 0\n",
        "numCons = 0\n",
        "\n",
        "for char in school:\n",
        "    if char == 'a' or char == 'e' or char == 'i' \\\n",
        "       or char == 'o' or char == 'u':\n",
        "        numVowels += 1\n",
        "    elif char == 'o' or char == 'M':\n",
        "        print(char)\n",
        "    else:\n",
        "        numCons -= 1\n",
        "\n",
        "print('numVowels is: ' + str(numVowels))\n",
        "print('numCons is: ' + str(numCons)) "
      ],
      "execution_count": 69,
      "outputs": [
        {
          "output_type": "stream",
          "text": [
            "M\n",
            "numVowels is: 11\n",
            "numCons is: -25\n"
          ],
          "name": "stdout"
        }
      ]
    },
    {
      "cell_type": "code",
      "metadata": {
        "id": "l7n66T572EFw",
        "colab_type": "code",
        "colab": {
          "base_uri": "https://localhost:8080/",
          "height": 102
        },
        "outputId": "26a54749-f06b-42fe-e6a5-015cc782788a"
      },
      "source": [
        "# Code Sample\n",
        "iteration = 0\n",
        "count = 0\n",
        "while iteration < 5:\n",
        "    for letter in \"hello, world\":\n",
        "        count += 1\n",
        "    print(\"Iteration \" + str(iteration) + \"; count is: \" + str(count))\n",
        "    iteration += 1 "
      ],
      "execution_count": 1,
      "outputs": [
        {
          "output_type": "stream",
          "text": [
            "Iteration 0; count is: 12\n",
            "Iteration 1; count is: 24\n",
            "Iteration 2; count is: 36\n",
            "Iteration 3; count is: 48\n",
            "Iteration 4; count is: 60\n"
          ],
          "name": "stdout"
        }
      ]
    },
    {
      "cell_type": "code",
      "metadata": {
        "id": "1AhpaQej2GlA",
        "colab_type": "code",
        "colab": {}
      },
      "source": [
        "for iteration in range(5):\n",
        "    count = 0\n",
        "    while True:\n",
        "        for letter in \"hello, world\":\n",
        "            count += 1\n",
        "        print(\"Iteration \" + str(iteration) + \"; count is: \" + str(count))\n",
        "\n"
      ],
      "execution_count": 0,
      "outputs": []
    },
    {
      "cell_type": "code",
      "metadata": {
        "id": "VYff4xSY2Raf",
        "colab_type": "code",
        "colab": {
          "base_uri": "https://localhost:8080/",
          "height": 102
        },
        "outputId": "90669996-775a-42cb-932c-560d70b19d8a"
      },
      "source": [
        "for iteration in range(5):\n",
        "    count = 0\n",
        "    while True:\n",
        "        for letter in \"hello, world\":\n",
        "            count += 1\n",
        "        print(\"Iteration \" + str(iteration) + \"; count is: \" + str(count))\n",
        "        break"
      ],
      "execution_count": 2,
      "outputs": [
        {
          "output_type": "stream",
          "text": [
            "Iteration 0; count is: 12\n",
            "Iteration 1; count is: 12\n",
            "Iteration 2; count is: 12\n",
            "Iteration 3; count is: 12\n",
            "Iteration 4; count is: 12\n"
          ],
          "name": "stdout"
        }
      ]
    },
    {
      "cell_type": "code",
      "metadata": {
        "id": "PN1q3w4W2Vsr",
        "colab_type": "code",
        "colab": {
          "base_uri": "https://localhost:8080/",
          "height": 102
        },
        "outputId": "c03ee849-cc53-4e09-dda9-c5cb8a8b2c7b"
      },
      "source": [
        "count = 0\n",
        "phrase = \"hello, world\"\n",
        "for iteration in range(5):\n",
        "    index = 0\n",
        "    while index < len(phrase):\n",
        "        count += 1\n",
        "        index += 1\n",
        "    print(\"Iteration \" + str(iteration) + \"; count is: \" + str(count))"
      ],
      "execution_count": 3,
      "outputs": [
        {
          "output_type": "stream",
          "text": [
            "Iteration 0; count is: 12\n",
            "Iteration 1; count is: 24\n",
            "Iteration 2; count is: 36\n",
            "Iteration 3; count is: 48\n",
            "Iteration 4; count is: 60\n"
          ],
          "name": "stdout"
        }
      ]
    },
    {
      "cell_type": "code",
      "metadata": {
        "id": "FTzjIJwV2Z59",
        "colab_type": "code",
        "colab": {
          "base_uri": "https://localhost:8080/",
          "height": 102
        },
        "outputId": "5fe85055-99d6-4154-f268-a2aeb1a5ef83"
      },
      "source": [
        "count = 0\n",
        "phrase = \"hello, world\"\n",
        "for iteration in range(5):\n",
        "    while True:\n",
        "        count += len(phrase)\n",
        "        break\n",
        "    print(\"Iteration \" + str(iteration) + \"; count is: \" + str(count))"
      ],
      "execution_count": 4,
      "outputs": [
        {
          "output_type": "stream",
          "text": [
            "Iteration 0; count is: 12\n",
            "Iteration 1; count is: 24\n",
            "Iteration 2; count is: 36\n",
            "Iteration 3; count is: 48\n",
            "Iteration 4; count is: 60\n"
          ],
          "name": "stdout"
        }
      ]
    },
    {
      "cell_type": "code",
      "metadata": {
        "id": "Pc1LmOy12ddb",
        "colab_type": "code",
        "colab": {
          "base_uri": "https://localhost:8080/",
          "height": 102
        },
        "outputId": "d8cd4995-11b7-4946-c62d-a085eb871c97"
      },
      "source": [
        "count = 0\n",
        "phrase = \"hello, world\"\n",
        "for iteration in range(5):\n",
        "    count += len(phrase)\n",
        "    print(\"Iteration \" + str(iteration) + \"; count is: \" + str(count))"
      ],
      "execution_count": 5,
      "outputs": [
        {
          "output_type": "stream",
          "text": [
            "Iteration 0; count is: 12\n",
            "Iteration 1; count is: 24\n",
            "Iteration 2; count is: 36\n",
            "Iteration 3; count is: 48\n",
            "Iteration 4; count is: 60\n"
          ],
          "name": "stdout"
        }
      ]
    },
    {
      "cell_type": "code",
      "metadata": {
        "id": "sGuPU2AB2rE-",
        "colab_type": "code",
        "colab": {
          "base_uri": "https://localhost:8080/",
          "height": 34
        },
        "outputId": "481e9b70-cce7-4af9-b745-1ee7971cc405"
      },
      "source": [
        "#Assume s is a string of lower case characters.\n",
        "\n",
        "#Write a program that counts up the number of vowels contained in the string s. \n",
        "#Valid vowels are: 'a', 'e', 'i', 'o', and 'u'. For example, if s = 'azcbobobegghakl', your program should print:\n",
        "\n",
        "s = 'azcbobobegghakl'\n",
        "count = 0\n",
        "for char in s:\n",
        "    if char == 'a' or char == 'e' or char == 'i' or char == 'o' or char == 'u':\n",
        "        count += 1\n",
        "print(\"Number of vowels:\" + str(count))\n"
      ],
      "execution_count": 7,
      "outputs": [
        {
          "output_type": "stream",
          "text": [
            "Number of vowels:5\n"
          ],
          "name": "stdout"
        }
      ]
    },
    {
      "cell_type": "code",
      "metadata": {
        "id": "qUur69yI4hfJ",
        "colab_type": "code",
        "colab": {
          "base_uri": "https://localhost:8080/",
          "height": 34
        },
        "outputId": "0956d366-3377-4034-8c0a-7caf4aa23879"
      },
      "source": [
        "#Pset-1 problem-2\n",
        "#Assume s is a string of lower case characters.\n",
        "#Write a program that prints the number of times the string 'bob' occurs in s. \n",
        "#For example, if s = 'azcbobobegghakl', then your program should print\n",
        "#Number of times bob occurs is: 2\n",
        "\n",
        "count = 0\n",
        "for n in range(len(s)):\n",
        "    if s[n:n+3] == \"bob\":\n",
        "        count += 1\n",
        "\n",
        "print(\"Number of times bob occurs is:\" + str(count))\n"
      ],
      "execution_count": 9,
      "outputs": [
        {
          "output_type": "stream",
          "text": [
            "Number of times bob occurs is:2\n"
          ],
          "name": "stdout"
        }
      ]
    },
    {
      "cell_type": "code",
      "metadata": {
        "id": "VfYwEy0I4zaQ",
        "colab_type": "code",
        "colab": {}
      },
      "source": [
        "#Pset-1 problem-3\n",
        "#Assume s is a string of lower case characters.\n",
        "#Write a program that prints the longest substring of s in which the letters occur in alphabetical order. \n",
        "#For example, if s = 'azcbobobegghakl', then your program should print\n",
        "#Longest substring in alphabetical order is: beggh\n",
        "#In the case of ties, print the first substring. For example, if s = 'abcbcd', then your program should print\n",
        "#Longest substring in alphabetical order is: abc\n",
        "#Note: This problem may be challenging. We encourage you to work smart. If you've spent more than a few hours on this problem, we suggest that you move on to a different part of the course. If you have time, come back to this problem after you've had a break and cleared your head.\n",
        "'''\n",
        "maxlength = 0\n",
        "current = s[0]\n",
        "longest = s[0]\n",
        "\n",
        "for i in range(len(s) - 1):\n",
        "\tif s[i+1] >= s[i]:\n",
        "\t\tcurrent += s[i+1]\n",
        "\t\tif len(current) > maxlength:\n",
        "\t\t\tmaxlength = len(current)\n",
        "\t\t\tlongest = current\n",
        "\telse:\n",
        "\t\tcurrent = s[i+1]\n",
        "\ti += 1\n",
        "print(\"The longest substring in alphabetical order is:\"  + longest)"
      ],
      "execution_count": 0,
      "outputs": []
    },
    {
      "cell_type": "code",
      "metadata": {
        "id": "ZS7jPFbP5dsM",
        "colab_type": "code",
        "colab": {
          "base_uri": "https://localhost:8080/",
          "height": 102
        },
        "outputId": "223254d7-4ec1-4a9d-8132-3d2a57cd2cc3"
      },
      "source": [
        "iteration = 0\n",
        "count = 0\n",
        "while iteration < 5:\n",
        "    # the variable 'letter' in the loop stands for every \n",
        "    # character, including spaces and commas!\n",
        "    for letter in \"hello, world\": \n",
        "        count += 1\n",
        "    print(\"Iteration \" + str(iteration) + \"; count is: \" + str(count))\n",
        "    iteration += 1 "
      ],
      "execution_count": 12,
      "outputs": [
        {
          "output_type": "stream",
          "text": [
            "Iteration 0; count is: 12\n",
            "Iteration 1; count is: 24\n",
            "Iteration 2; count is: 36\n",
            "Iteration 3; count is: 48\n",
            "Iteration 4; count is: 60\n"
          ],
          "name": "stdout"
        }
      ]
    },
    {
      "cell_type": "code",
      "metadata": {
        "id": "H8L2G3FP5ncN",
        "colab_type": "code",
        "colab": {
          "base_uri": "https://localhost:8080/",
          "height": 102
        },
        "outputId": "599ac6b4-d83d-462b-a32d-afdd97ed2ece"
      },
      "source": [
        "iteration = 0\n",
        "while iteration < 5:\n",
        "    count = 0\n",
        "    for letter in \"hello, world\":\n",
        "        count += 1\n",
        "    print(\"Iteration \" + str(iteration) + \"; count is: \" + str(count))\n",
        "    iteration += 1 "
      ],
      "execution_count": 13,
      "outputs": [
        {
          "output_type": "stream",
          "text": [
            "Iteration 0; count is: 12\n",
            "Iteration 1; count is: 12\n",
            "Iteration 2; count is: 12\n",
            "Iteration 3; count is: 12\n",
            "Iteration 4; count is: 12\n"
          ],
          "name": "stdout"
        }
      ]
    },
    {
      "cell_type": "code",
      "metadata": {
        "id": "z4i7xtFx6_pr",
        "colab_type": "code",
        "colab": {
          "base_uri": "https://localhost:8080/",
          "height": 102
        },
        "outputId": "0450fe21-4044-40fd-f873-7dec3e4fdbdc"
      },
      "source": [
        "iteration = 0\n",
        "while iteration < 5:\n",
        "    count = 0\n",
        "    for letter in \"hello, world\":\n",
        "        count += 1\n",
        "        if iteration % 2 == 0:\n",
        "            break\n",
        "    print(\"Iteration \" + str(iteration) + \"; count is: \" + str(count))\n",
        "    iteration += 1 "
      ],
      "execution_count": 14,
      "outputs": [
        {
          "output_type": "stream",
          "text": [
            "Iteration 0; count is: 1\n",
            "Iteration 1; count is: 12\n",
            "Iteration 2; count is: 1\n",
            "Iteration 3; count is: 12\n",
            "Iteration 4; count is: 1\n"
          ],
          "name": "stdout"
        }
      ]
    }
  ]
}